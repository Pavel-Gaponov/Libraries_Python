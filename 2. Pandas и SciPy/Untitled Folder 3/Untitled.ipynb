{
 "cells": [
  {
   "cell_type": "code",
   "execution_count": 1,
   "id": "570afd24",
   "metadata": {},
   "outputs": [],
   "source": [
    "import scipy\n",
    "import scipy.stats as sps"
   ]
  },
  {
   "cell_type": "code",
   "execution_count": 2,
   "id": "92b1f775",
   "metadata": {},
   "outputs": [],
   "source": [
    "X = sps.norm"
   ]
  },
  {
   "cell_type": "code",
   "execution_count": 3,
   "id": "ed9a1077",
   "metadata": {},
   "outputs": [
    {
     "data": {
      "text/plain": [
       "array([ 0.8828098 , -0.82297326,  0.74949224, -0.99310266, -0.25252119,\n",
       "        2.02471527,  0.15567683, -0.26906159, -0.45099152, -0.18424139])"
      ]
     },
     "execution_count": 3,
     "metadata": {},
     "output_type": "execute_result"
    }
   ],
   "source": [
    "X.rvs(size=10)"
   ]
  },
  {
   "cell_type": "code",
   "execution_count": 4,
   "id": "55639a21",
   "metadata": {},
   "outputs": [
    {
     "data": {
      "text/plain": [
       "0.5"
      ]
     },
     "execution_count": 4,
     "metadata": {},
     "output_type": "execute_result"
    }
   ],
   "source": [
    "X.cdf(0)"
   ]
  },
  {
   "cell_type": "code",
   "execution_count": 5,
   "id": "c6932d63",
   "metadata": {},
   "outputs": [
    {
     "data": {
      "text/plain": [
       "0.8413447460685429"
      ]
     },
     "execution_count": 5,
     "metadata": {},
     "output_type": "execute_result"
    }
   ],
   "source": [
    "X.cdf(1)"
   ]
  },
  {
   "cell_type": "code",
   "execution_count": 6,
   "id": "44e8fd1b",
   "metadata": {},
   "outputs": [
    {
     "data": {
      "text/plain": [
       "0.15865525393145707"
      ]
     },
     "execution_count": 6,
     "metadata": {},
     "output_type": "execute_result"
    }
   ],
   "source": [
    "X.cdf(-1)"
   ]
  },
  {
   "cell_type": "code",
   "execution_count": 7,
   "id": "2afa6c9e",
   "metadata": {},
   "outputs": [
    {
     "data": {
      "text/plain": [
       "-0.6931471805599453"
      ]
     },
     "execution_count": 7,
     "metadata": {},
     "output_type": "execute_result"
    }
   ],
   "source": [
    "X.logcdf(0)"
   ]
  },
  {
   "cell_type": "code",
   "execution_count": 8,
   "id": "0e0465be",
   "metadata": {},
   "outputs": [
    {
     "data": {
      "text/plain": [
       "0.0"
      ]
     },
     "execution_count": 8,
     "metadata": {},
     "output_type": "execute_result"
    }
   ],
   "source": [
    "X.ppf(0.5)"
   ]
  },
  {
   "cell_type": "code",
   "execution_count": 9,
   "id": "12418df3",
   "metadata": {},
   "outputs": [
    {
     "data": {
      "text/plain": [
       "0.2533471031357997"
      ]
     },
     "execution_count": 9,
     "metadata": {},
     "output_type": "execute_result"
    }
   ],
   "source": [
    "X.ppf(0.6)"
   ]
  },
  {
   "cell_type": "code",
   "execution_count": 10,
   "id": "d69d43c3",
   "metadata": {},
   "outputs": [
    {
     "data": {
      "text/plain": [
       "0.0"
      ]
     },
     "execution_count": 10,
     "metadata": {},
     "output_type": "execute_result"
    }
   ],
   "source": [
    "X.mean()"
   ]
  },
  {
   "cell_type": "code",
   "execution_count": 11,
   "id": "848e2b53",
   "metadata": {},
   "outputs": [
    {
     "data": {
      "text/plain": [
       "0.0"
      ]
     },
     "execution_count": 11,
     "metadata": {},
     "output_type": "execute_result"
    }
   ],
   "source": [
    "X.median()"
   ]
  },
  {
   "cell_type": "code",
   "execution_count": 12,
   "id": "b20424a8",
   "metadata": {},
   "outputs": [
    {
     "data": {
      "text/plain": [
       "1.0"
      ]
     },
     "execution_count": 12,
     "metadata": {},
     "output_type": "execute_result"
    }
   ],
   "source": [
    "X.var()"
   ]
  },
  {
   "cell_type": "code",
   "execution_count": 13,
   "id": "2c62ac47",
   "metadata": {},
   "outputs": [
    {
     "name": "stdout",
     "output_type": "stream",
     "text": [
      "Первые 10 значений выборки:\n",
      " [ 0.40519726 -0.15726422  2.86977878  5.92745172  7.97290788 -1.83732154\n",
      "  4.51225358 -2.40783766 -0.84538273 -2.3332223 ]\n",
      "Выборочное среднее: 0.810\n",
      "Выборочная дисперсия: 8.385\n"
     ]
    }
   ],
   "source": [
    "sample = sps.norm(loc=1, scale=3).rvs(size=200)\n",
    "print('Первые 10 значений выборки:\\n', sample[:10])\n",
    "print('Выборочное среднее: %.3f' % sample.mean())\n",
    "print('Выборочная дисперсия: %.3f' % sample.var())"
   ]
  },
  {
   "cell_type": "code",
   "execution_count": 14,
   "id": "70d81b01",
   "metadata": {},
   "outputs": [],
   "source": [
    "import numpy as np\n",
    "import matplotlib.pyplot as plt"
   ]
  },
  {
   "cell_type": "code",
   "execution_count": 15,
   "id": "cd7a9cbf",
   "metadata": {},
   "outputs": [
    {
     "data": {
      "text/plain": [
       "[<matplotlib.lines.Line2D at 0x1305120fc40>]"
      ]
     },
     "execution_count": 15,
     "metadata": {},
     "output_type": "execute_result"
    },
    {
     "data": {
      "image/png": "[encoded data removed]",
      "text/plain": [
       "<Figure size 640x480 with 1 Axes>"
      ]
     },
     "metadata": {},
     "output_type": "display_data"
    }
   ],
   "source": [
    "x = np.linspace(0,20,1000)\n",
    "y = sps.norm(loc=10, scale=1).pdf(x)\n",
    "plt.plot(x,y)"
   ]
  },
  {
   "cell_type": "code",
   "execution_count": 16,
   "id": "711bd3e6",
   "metadata": {},
   "outputs": [
    {
     "name": "stdout",
     "output_type": "stream",
     "text": [
      "Первые 10 значений выборки:\n",
      " [6 5 6 8 5 7 5 8 5 8]\n",
      "Выборочное среднее: 6.045\n",
      "Выборочная дисперсия: 1.893\n"
     ]
    }
   ],
   "source": [
    "sample = sps.binom(n=10, p=0.6).rvs(size=200)\n",
    "print('Первые 10 значений выборки:\\n', sample[:10])\n",
    "print('Выборочное среднее: %.3f' % sample.mean())\n",
    "print('Выборочная дисперсия: %.3f' % sample.var())"
   ]
  },
  {
   "cell_type": "code",
   "execution_count": 19,
   "id": "d817eb43",
   "metadata": {},
   "outputs": [
    {
     "name": "stdout",
     "output_type": "stream",
     "text": [
      "Плотность: \t\t [0.         0.00010486 0.00157286 0.01061683 0.04246733]\n",
      "Функция распределения:\t [0.         0.00010486 0.00167772 0.01229455 0.05476188]\n"
     ]
    }
   ],
   "source": [
    "print('Плотность: \\t\\t', sps.binom(n=10, p=0.6).pmf([-1,0,1,2,3]))\n",
    "print('Функция распределения:\\t', sps.binom(n=10, p=0.6).cdf([-1,0,1,2,3]))"
   ]
  },
  {
   "cell_type": "code",
   "execution_count": 22,
   "id": "6313bcc0",
   "metadata": {},
   "outputs": [
    {
     "name": "stdout",
     "output_type": "stream",
     "text": [
      "Первые 10 значений выборки:\n",
      " [[ 1.69204469  2.34185777]\n",
      " [ 0.61083172 -1.78736712]\n",
      " [ 5.15179451  1.56652967]\n",
      " [ 2.86643703  0.22205722]\n",
      " [ 0.82326386 -0.36672623]\n",
      " [ 2.51137422  1.9557137 ]\n",
      " [ 1.08229637 -0.19310227]\n",
      " [ 2.53203098  1.88675454]\n",
      " [ 4.29914924  3.61991266]\n",
      " [ 3.21588818  1.99841926]]\n",
      "Выборочное среднее: [1.02617672 1.02669753]\n",
      "Выборочная матрица ковариаций:\n",
      " [[1.97916303 0.99897311]\n",
      " [0.99897311 2.01636634]]\n"
     ]
    }
   ],
   "source": [
    "sample = sps.multivariate_normal(mean=[1,1], cov=[[2,1], [1,2]]).rvs(size=2000)\n",
    "print('Первые 10 значений выборки:\\n', sample[:10])\n",
    "print('Выборочное среднее:', sample.mean(axis=0))\n",
    "print('Выборочная матрица ковариаций:\\n', np.cov(sample.T))"
   ]
  },
  {
   "cell_type": "code",
   "execution_count": 24,
   "id": "866a40d5",
   "metadata": {},
   "outputs": [
    {
     "name": "stdout",
     "output_type": "stream",
     "text": [
      "Первые 10 значений выборки:\n",
      " [1.70877758 1.53022272 1.74215919 1.65122101 1.31388815 1.92487377\n",
      " 1.57083599 1.51568585 1.69571746 1.44507587]\n",
      "Выборочное среднее: 1.662\n",
      "Выборочная дисперсия: 0.065\n"
     ]
    }
   ],
   "source": [
    "class cubic_gen(sps.rv_continuous):\n",
    "    def _pdf(self, x):\n",
    "        return 4 * x ** 3/15\n",
    "cubic = cubic_gen(a=1, b=2, name='cubic')\n",
    "\n",
    "sample = cubic.rvs(size=200)\n",
    "\n",
    "print('Первые 10 значений выборки:\\n', sample[:10])\n",
    "print('Выборочное среднее: %.3f' % sample.mean())\n",
    "print('Выборочная дисперсия: %.3f' % sample.var())"
   ]
  },
  {
   "cell_type": "code",
   "execution_count": 25,
   "id": "39cbe4c6",
   "metadata": {},
   "outputs": [
    {
     "data": {
      "text/plain": [
       "[<matplotlib.lines.Line2D at 0x13051a2e0d0>]"
      ]
     },
     "execution_count": 25,
     "metadata": {},
     "output_type": "execute_result"
    },
    {
     "data": {
      "image/png": "[encoded data removed]",
      "text/plain": [
       "<Figure size 640x480 with 1 Axes>"
      ]
     },
     "metadata": {},
     "output_type": "display_data"
    }
   ],
   "source": [
    "plt.grid()\n",
    "plt.plot(np.linspace(1,2,1000), cubic.pdf(np.linspace(1,2,1000)))"
   ]
  },
  {
   "cell_type": "code",
   "execution_count": null,
   "id": "0227934d",
   "metadata": {},
   "outputs": [],
   "source": []
  }
 ],
 "metadata": {
  "kernelspec": {
   "display_name": "Python 3 (ipykernel)",
   "language": "python",
   "name": "python3"
  },
  "language_info": {
   "codemirror_mode": {
    "name": "ipython",
    "version": 3
   },
   "file_extension": ".py",
   "mimetype": "text/x-python",
   "name": "python",
   "nbconvert_exporter": "python",
   "pygments_lexer": "ipython3",
   "version": "3.9.13"
  }
 },
 "nbformat": 4,
 "nbformat_minor": 5
}
