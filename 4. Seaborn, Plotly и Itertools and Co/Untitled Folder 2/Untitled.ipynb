{
 "cells": [
  {
   "cell_type": "code",
   "execution_count": 1,
   "id": "3f16ceff",
   "metadata": {},
   "outputs": [
    {
     "name": "stdout",
     "output_type": "stream",
     "text": [
      "0: 1\n",
      "1: 3\n",
      "2: 6\n",
      "3: 10\n",
      "4: 15\n",
      "5: 21\n",
      "6: 28\n"
     ]
    }
   ],
   "source": [
    "import itertools\n",
    "\n",
    "l = [1,2,3,4,5,6,7]\n",
    "for i,val in enumerate(itertools.accumulate(l)):\n",
    "    print(f'{i}: {val}')"
   ]
  },
  {
   "cell_type": "code",
   "execution_count": 2,
   "id": "a35a3791",
   "metadata": {},
   "outputs": [
    {
     "name": "stdout",
     "output_type": "stream",
     "text": [
      "0: 1\n",
      "1: 2\n",
      "2: 6\n",
      "3: 24\n",
      "4: 120\n",
      "5: 720\n",
      "6: 5040\n"
     ]
    }
   ],
   "source": [
    "import operator\n",
    "from functools import reduce\n",
    "\n",
    "for i,val in enumerate(itertools.accumulate(l, operator.mul)):\n",
    "    print(f'{i}: {val}')"
   ]
  },
  {
   "cell_type": "code",
   "execution_count": 3,
   "id": "0fe17b52",
   "metadata": {},
   "outputs": [
    {
     "data": {
      "text/plain": [
       "5040"
      ]
     },
     "execution_count": 3,
     "metadata": {},
     "output_type": "execute_result"
    }
   ],
   "source": [
    "reduce(operator.mul,l)"
   ]
  },
  {
   "cell_type": "code",
   "execution_count": 5,
   "id": "1a3e1777",
   "metadata": {},
   "outputs": [],
   "source": [
    "import time\n",
    "def timing_val(func):\n",
    "    def wrapper(*arg, **kw):\n",
    "        print(func.__name__, 'running')\n",
    "        t1 = time.time()\n",
    "        res = func(*arg, **kw)\n",
    "        t2 = time.time()\n",
    "        print(f'It took {t2-t1} seconds to run this code')\n",
    "        \n",
    "        return res\n",
    "    return wrapper\n",
    "\n",
    "@timing_val\n",
    "def factorial(n):\n",
    "    *_, last = itertools.accumulate(range(1,n+1), operator.mul)\n",
    "    return last\n",
    "\n",
    "@timing_val\n",
    "def factorial_r(n):\n",
    "    return reduce(operator.mul, range(1,n+1))\n",
    "\n",
    "@timing_val\n",
    "def factorial_c(n):\n",
    "    x = 1\n",
    "    for x_ in range(2, n+2):\n",
    "        x*=x_\n",
    "        return x"
   ]
  },
  {
   "cell_type": "code",
   "execution_count": 6,
   "id": "8d36ac85",
   "metadata": {},
   "outputs": [
    {
     "name": "stdout",
     "output_type": "stream",
     "text": [
      "factorial running\n",
      "It took 13.205674409866333 seconds to run this code\n",
      "factorial_r running\n",
      "It took 0.8946046829223633 seconds to run this code\n",
      "factorial_c running\n",
      "It took 0.0 seconds to run this code\n"
     ]
    },
    {
     "data": {
      "text/plain": [
       "2"
      ]
     },
     "execution_count": 6,
     "metadata": {},
     "output_type": "execute_result"
    }
   ],
   "source": [
    "factorial(50000)\n",
    "factorial_r(50000)\n",
    "factorial_c(50000)"
   ]
  },
  {
   "cell_type": "code",
   "execution_count": 8,
   "id": "3fbe0fd6",
   "metadata": {},
   "outputs": [
    {
     "data": {
      "text/html": [
       "<div>\n",
       "<style scoped>\n",
       "    .dataframe tbody tr th:only-of-type {\n",
       "        vertical-align: middle;\n",
       "    }\n",
       "\n",
       "    .dataframe tbody tr th {\n",
       "        vertical-align: top;\n",
       "    }\n",
       "\n",
       "    .dataframe thead th {\n",
       "        text-align: right;\n",
       "    }\n",
       "</style>\n",
       "<table border=\"1\" class=\"dataframe\">\n",
       "  <thead>\n",
       "    <tr style=\"text-align: right;\">\n",
       "      <th></th>\n",
       "      <th>A</th>\n",
       "      <th>I</th>\n",
       "      <th>B</th>\n",
       "      <th>C</th>\n",
       "    </tr>\n",
       "  </thead>\n",
       "  <tbody>\n",
       "    <tr>\n",
       "      <th>0</th>\n",
       "      <td>0</td>\n",
       "      <td>0</td>\n",
       "      <td>0</td>\n",
       "      <td>0</td>\n",
       "    </tr>\n",
       "    <tr>\n",
       "      <th>1</th>\n",
       "      <td>1</td>\n",
       "      <td>1</td>\n",
       "      <td>1</td>\n",
       "      <td>1</td>\n",
       "    </tr>\n",
       "    <tr>\n",
       "      <th>2</th>\n",
       "      <td>2</td>\n",
       "      <td>2</td>\n",
       "      <td>2</td>\n",
       "      <td>2</td>\n",
       "    </tr>\n",
       "    <tr>\n",
       "      <th>3</th>\n",
       "      <td>3</td>\n",
       "      <td>3</td>\n",
       "      <td>3</td>\n",
       "      <td>3</td>\n",
       "    </tr>\n",
       "    <tr>\n",
       "      <th>4</th>\n",
       "      <td>4</td>\n",
       "      <td>4</td>\n",
       "      <td>4</td>\n",
       "      <td>4</td>\n",
       "    </tr>\n",
       "    <tr>\n",
       "      <th>...</th>\n",
       "      <td>...</td>\n",
       "      <td>...</td>\n",
       "      <td>...</td>\n",
       "      <td>...</td>\n",
       "    </tr>\n",
       "    <tr>\n",
       "      <th>95</th>\n",
       "      <td>95</td>\n",
       "      <td>95</td>\n",
       "      <td>95</td>\n",
       "      <td>95</td>\n",
       "    </tr>\n",
       "    <tr>\n",
       "      <th>96</th>\n",
       "      <td>96</td>\n",
       "      <td>96</td>\n",
       "      <td>96</td>\n",
       "      <td>96</td>\n",
       "    </tr>\n",
       "    <tr>\n",
       "      <th>97</th>\n",
       "      <td>97</td>\n",
       "      <td>97</td>\n",
       "      <td>97</td>\n",
       "      <td>97</td>\n",
       "    </tr>\n",
       "    <tr>\n",
       "      <th>98</th>\n",
       "      <td>98</td>\n",
       "      <td>98</td>\n",
       "      <td>98</td>\n",
       "      <td>98</td>\n",
       "    </tr>\n",
       "    <tr>\n",
       "      <th>99</th>\n",
       "      <td>99</td>\n",
       "      <td>99</td>\n",
       "      <td>99</td>\n",
       "      <td>99</td>\n",
       "    </tr>\n",
       "  </tbody>\n",
       "</table>\n",
       "<p>100 rows × 4 columns</p>\n",
       "</div>"
      ],
      "text/plain": [
       "     A   I   B   C\n",
       "0    0   0   0   0\n",
       "1    1   1   1   1\n",
       "2    2   2   2   2\n",
       "3    3   3   3   3\n",
       "4    4   4   4   4\n",
       "..  ..  ..  ..  ..\n",
       "95  95  95  95  95\n",
       "96  96  96  96  96\n",
       "97  97  97  97  97\n",
       "98  98  98  98  98\n",
       "99  99  99  99  99\n",
       "\n",
       "[100 rows x 4 columns]"
      ]
     },
     "execution_count": 8,
     "metadata": {},
     "output_type": "execute_result"
    }
   ],
   "source": [
    "import pandas as pd\n",
    "df1 = pd.DataFrame({'A' : list(range(100)), 'I' : list(range(100))})\n",
    "df2 = pd.DataFrame({'B' : list(range(100)), 'I' : list(range(100))})\n",
    "df3 = pd.DataFrame({'C' : list(range(100)), 'I' : list(range(100))})\n",
    "\n",
    "reduce(lambda left, right: pd.merge(left, right, on='I'), [df1, df2, df3])"
   ]
  },
  {
   "cell_type": "code",
   "execution_count": 9,
   "id": "d31a6b51",
   "metadata": {},
   "outputs": [
    {
     "data": {
      "text/plain": [
       "['first', 'second', 'third', 'fouth', 'fifth', 'sixth']"
      ]
     },
     "execution_count": 9,
     "metadata": {},
     "output_type": "execute_result"
    }
   ],
   "source": [
    "l = [['first', 'second'], ['third'], ['fouth', 'fifth', 'sixth']]\n",
    "list(itertools.chain(*l))"
   ]
  },
  {
   "cell_type": "code",
   "execution_count": 10,
   "id": "2c0e6458",
   "metadata": {},
   "outputs": [
    {
     "data": {
      "text/plain": [
       "[1, 2, 3]"
      ]
     },
     "execution_count": 10,
     "metadata": {},
     "output_type": "execute_result"
    }
   ],
   "source": [
    "list(itertools.dropwhile(lambda x:x>4,[5,6,7,8,9,1,2,3]))"
   ]
  },
  {
   "cell_type": "code",
   "execution_count": 11,
   "id": "e6b826cd",
   "metadata": {},
   "outputs": [],
   "source": [
    "it = range(10, 1, -1)\n",
    "it_1 = itertools.dropwhile(lambda x:x>4, it)"
   ]
  },
  {
   "cell_type": "code",
   "execution_count": 12,
   "id": "13e1f0ab",
   "metadata": {},
   "outputs": [
    {
     "name": "stdout",
     "output_type": "stream",
     "text": [
      "4\n",
      "3\n",
      "2\n"
     ]
    }
   ],
   "source": [
    "for i in it_1:\n",
    "    print(i)"
   ]
  },
  {
   "cell_type": "code",
   "execution_count": 13,
   "id": "35d76a8e",
   "metadata": {},
   "outputs": [
    {
     "data": {
      "text/plain": [
       "[5, 6, 7, 8, 9]"
      ]
     },
     "execution_count": 13,
     "metadata": {},
     "output_type": "execute_result"
    }
   ],
   "source": [
    "list(itertools.takewhile(lambda x:x>4, [5,6,7,8,9,1,2,3]))"
   ]
  },
  {
   "cell_type": "code",
   "execution_count": 15,
   "id": "410d5ab8",
   "metadata": {},
   "outputs": [
    {
     "name": "stdout",
     "output_type": "stream",
     "text": [
      "нечётные [1, 3, 5, 7, 9]\n",
      "чётные [0, 2, 4, 6, 8]\n"
     ]
    }
   ],
   "source": [
    "from itertools import groupby\n",
    "keyfunc = lambda x: 'нечётные' if int(x%2) else 'чётные'\n",
    "sequence = [i for i in range(10)]\n",
    "\n",
    "sequence = sorted(sequence, key=keyfunc)\n",
    "\n",
    "for group, nums in groupby(sequence, keyfunc):\n",
    "    print(group, list(nums))"
   ]
  },
  {
   "cell_type": "code",
   "execution_count": 17,
   "id": "55c2c9ad",
   "metadata": {},
   "outputs": [
    {
     "name": "stdout",
     "output_type": "stream",
     "text": [
      "остаток деления на  4 :  0 ->  [0, 4, 8, 12]\n",
      "остаток деления на  4 :  1 ->  [1, 5, 9, 13]\n",
      "остаток деления на  4 :  2 ->  [2, 6, 10, 14]\n",
      "остаток деления на  4 :  3 ->  [3, 7, 11, 15]\n"
     ]
    }
   ],
   "source": [
    "N = 4\n",
    "keyfunc = lambda x: int(x%N)\n",
    "sequence = [i for i in range(16)]\n",
    "\n",
    "sequence = sorted(sequence, key=keyfunc)\n",
    "\n",
    "for group, nums in groupby(sequence, keyfunc):\n",
    "    print('остаток деления на ', N, ': ', group, '-> ', list(nums))"
   ]
  },
  {
   "cell_type": "code",
   "execution_count": 18,
   "id": "d9af7176",
   "metadata": {},
   "outputs": [
    {
     "data": {
      "text/plain": [
       "[['Париж', 'город', 'Франция'],\n",
       " ['Абкот', 'деревня', 'Англия'],\n",
       " ['Алексеевка', 'посёлок городского типа', 'Россия'],\n",
       " ['Мехико', 'город', 'Мексика'],\n",
       " ['Финистер', 'деревня', 'Франция'],\n",
       " ['Москва', 'город', 'Россия'],\n",
       " ['Беценковичи', 'посёлок городского типа', 'Белорусь']]"
      ]
     },
     "execution_count": 18,
     "metadata": {},
     "output_type": "execute_result"
    }
   ],
   "source": [
    "table = [['Париж', 'город', 'Франция'],\n",
    "         ['Абкот', 'деревня', 'Англия'],\n",
    "         ['Алексеевка', 'посёлок городского типа', 'Россия'],\n",
    "         ['Мехико', 'город', 'Мексика'],\n",
    "         ['Финистер', 'деревня', 'Франция'],\n",
    "         ['Москва', 'город', 'Россия'],\n",
    "         ['Беценковичи', 'посёлок городского типа', 'Белорусь']]\n",
    "\n",
    "table"
   ]
  },
  {
   "cell_type": "code",
   "execution_count": 19,
   "id": "5feac8ed",
   "metadata": {},
   "outputs": [
    {
     "name": "stdout",
     "output_type": "stream",
     "text": [
      "город\n",
      "-------------------\n",
      "Париж , Франция\n",
      "Мехико , Мексика\n",
      "Москва , Россия\n",
      "-------------------\n",
      "\n",
      "\n",
      "деревня\n",
      "-------------------\n",
      "Абкот , Англия\n",
      "Финистер , Франция\n",
      "-------------------\n",
      "\n",
      "\n",
      "посёлок городского типа\n",
      "-------------------\n",
      "Алексеевка , Россия\n",
      "Беценковичи , Белорусь\n",
      "-------------------\n",
      "\n",
      "\n"
     ]
    }
   ],
   "source": [
    "keyfunc = lambda x:x[1]\n",
    "\n",
    "table = sorted(table, key=keyfunc)\n",
    "\n",
    "for TYPE, group in groupby(table, keyfunc):\n",
    "    print(TYPE)\n",
    "    print('-------------------')\n",
    "    for g in group:\n",
    "        print(g[0], ',', g[2])\n",
    "    print('-------------------')\n",
    "    print('\\n')"
   ]
  },
  {
   "cell_type": "code",
   "execution_count": 20,
   "id": "b6eda314",
   "metadata": {},
   "outputs": [
    {
     "data": {
      "text/plain": [
       "[('A', 1),\n",
       " ('A', 2),\n",
       " ('A', 3),\n",
       " ('A', 4),\n",
       " ('B', 1),\n",
       " ('B', 2),\n",
       " ('B', 3),\n",
       " ('B', 4),\n",
       " ('C', 1),\n",
       " ('C', 2),\n",
       " ('C', 3),\n",
       " ('C', 4),\n",
       " ('D', 1),\n",
       " ('D', 2),\n",
       " ('D', 3),\n",
       " ('D', 4)]"
      ]
     },
     "execution_count": 20,
     "metadata": {},
     "output_type": "execute_result"
    }
   ],
   "source": [
    "list(itertools.product('ABCD', [1,2,3,4]))"
   ]
  },
  {
   "cell_type": "code",
   "execution_count": 21,
   "id": "d0b26d35",
   "metadata": {},
   "outputs": [
    {
     "data": {
      "text/plain": [
       "[('A', 'B', 'C'),\n",
       " ('A', 'C', 'B'),\n",
       " ('B', 'A', 'C'),\n",
       " ('B', 'C', 'A'),\n",
       " ('C', 'A', 'B'),\n",
       " ('C', 'B', 'A')]"
      ]
     },
     "execution_count": 21,
     "metadata": {},
     "output_type": "execute_result"
    }
   ],
   "source": [
    "list(itertools.permutations('ABC'))"
   ]
  },
  {
   "cell_type": "code",
   "execution_count": 22,
   "id": "bf9abf39",
   "metadata": {},
   "outputs": [
    {
     "name": "stdout",
     "output_type": "stream",
     "text": [
      "[('A', 'B'), ('A', 'C'), ('B', 'C')]\n",
      "[('A', 'A'), ('A', 'B'), ('A', 'C'), ('B', 'B'), ('B', 'C'), ('C', 'C')]\n"
     ]
    }
   ],
   "source": [
    "print(list(itertools.combinations('ABC', 2)))\n",
    "print(list(itertools.combinations_with_replacement('ABC', 2)))"
   ]
  },
  {
   "cell_type": "code",
   "execution_count": null,
   "id": "064ec1b4",
   "metadata": {},
   "outputs": [],
   "source": []
  }
 ],
 "metadata": {
  "kernelspec": {
   "display_name": "Python 3 (ipykernel)",
   "language": "python",
   "name": "python3"
  },
  "language_info": {
   "codemirror_mode": {
    "name": "ipython",
    "version": 3
   },
   "file_extension": ".py",
   "mimetype": "text/x-python",
   "name": "python",
   "nbconvert_exporter": "python",
   "pygments_lexer": "ipython3",
   "version": "3.9.13"
  }
 },
 "nbformat": 4,
 "nbformat_minor": 5
}
